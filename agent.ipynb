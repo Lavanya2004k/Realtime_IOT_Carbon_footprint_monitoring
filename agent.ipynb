{
 "cells": [
  {
   "cell_type": "code",
   "execution_count": 43,
   "metadata": {},
   "outputs": [
    {
     "name": "stdout",
     "output_type": "stream",
     "text": [
      "Collecting kafka-python\n",
      "  Using cached kafka_python-2.1.1-py2.py3-none-any.whl.metadata (9.1 kB)\n",
      "\u001b[31mERROR: Could not find a version that satisfies the requirement tensorflow (from versions: none)\u001b[0m\u001b[31m\n",
      "\u001b[0m\u001b[31mERROR: No matching distribution found for tensorflow\u001b[0m\u001b[31m\n",
      "\u001b[0m"
     ]
    }
   ],
   "source": [
    "! pip install kafka-python tensorflow gym numpy pandas\n"
   ]
  },
  {
   "cell_type": "code",
   "execution_count": 36,
   "metadata": {},
   "outputs": [
    {
     "name": "stdout",
     "output_type": "stream",
     "text": [
      "Collecting stable-baselines3==2.4.0\n",
      "  Using cached stable_baselines3-2.4.0-py3-none-any.whl.metadata (4.5 kB)\n",
      "Collecting kafka-python\n",
      "  Using cached kafka_python-2.1.1-py2.py3-none-any.whl.metadata (9.1 kB)\n",
      "Requirement already satisfied: pandas in ./env/lib/python3.13/site-packages (2.2.3)\n",
      "Requirement already satisfied: matplotlib in ./env/lib/python3.13/site-packages (3.10.1)\n",
      "Collecting gymnasium<1.1.0,>=0.29.1 (from stable-baselines3==2.4.0)\n",
      "  Using cached gymnasium-1.0.0-py3-none-any.whl.metadata (9.5 kB)\n",
      "Collecting numpy<2.0,>=1.20 (from stable-baselines3==2.4.0)\n",
      "  Using cached numpy-1.26.4.tar.gz (15.8 MB)\n",
      "  Installing build dependencies ... \u001b[?25ldone\n",
      "\u001b[?25h  Getting requirements to build wheel ... \u001b[?25ldone\n",
      "\u001b[?25h  Preparing metadata (pyproject.toml) ... \u001b[?25ldone\n",
      "\u001b[?25hINFO: pip is looking at multiple versions of stable-baselines3 to determine which version is compatible with other requirements. This could take a while.\n",
      "\u001b[31mERROR: Could not find a version that satisfies the requirement torch>=1.13 (from stable-baselines3) (from versions: none)\u001b[0m\u001b[31m\n",
      "\u001b[0m\u001b[31mERROR: No matching distribution found for torch>=1.13\u001b[0m\u001b[31m\n",
      "\u001b[0m"
     ]
    }
   ],
   "source": [
    "! pip install stable-baselines3==2.4.0 kafka-python pandas matplotlib\n"
   ]
  },
  {
   "cell_type": "code",
   "execution_count": 44,
   "metadata": {},
   "outputs": [],
   "source": [
    "import numpy as np\n",
    "import gym\n",
    "from gym import spaces\n",
    "\n",
    "class CarbonEmissionsEnv(gym.Env):\n",
    "    def __init__(self, kafka_consumer):\n",
    "        super(CarbonEmissionsEnv, self).__init__()\n",
    "        self.kafka_consumer = kafka_consumer\n",
    "        \n",
    "        # Define action and observation space\n",
    "        self.action_space = spaces.Discrete(3)  # Actions: 0 - Reduce coal, 1 - Promote renewables, 2 - Recommend policy\n",
    "        self.observation_space = spaces.Box(low=0, high=np.inf, shape=(4,), dtype=np.float32)  # Example: Country, Year, Carbon, Activity\n",
    "        \n",
    "        # Initialize state\n",
    "        self.state = None\n",
    "        self.done = False\n",
    "    \n",
    "    def step(self, action):\n",
    "        # Apply the chosen action and calculate reward\n",
    "        reward = 0\n",
    "        if action == 0:  # Reduce coal\n",
    "            reward = -self.state[2] * 0.1\n",
    "        elif action == 1:  # Promote renewables\n",
    "            reward = -self.state[3] * 0.2\n",
    "        elif action == 2:  # Recommend policy\n",
    "            reward = -self.state[2] * 0.05\n",
    "        \n",
    "        # Simulate new state from Kafka\n",
    "        self.state = self._get_new_state()\n",
    "        \n",
    "        # Check if episode is done\n",
    "        self.done = self.state is None\n",
    "        \n",
    "        return self.state, reward, self.done, {}\n",
    "    \n",
    "    def reset(self):\n",
    "        # Reset state using Kafka data\n",
    "        self.state = self._get_new_state()\n",
    "        return self.state\n",
    "    \n",
    "    def _get_new_state(self):\n",
    "        # Fetch new data from Kafka\n",
    "        for message in self.kafka_consumer:\n",
    "            data = json.loads(message.value)\n",
    "            return np.array([data['country'], data['year'], data['carbon_emission'], data['activity']])\n",
    "        return None\n"
   ]
  },
  {
   "cell_type": "code",
   "execution_count": 4,
   "metadata": {},
   "outputs": [
    {
     "name": "stdout",
     "output_type": "stream",
     "text": [
      "Collecting gym\n",
      "  Using cached gym-0.26.2.tar.gz (721 kB)\n",
      "  Installing build dependencies ... \u001b[?25ldone\n",
      "\u001b[?25h  Getting requirements to build wheel ... \u001b[?25ldone\n",
      "\u001b[?25h  Preparing metadata (pyproject.toml) ... \u001b[?25ldone\n",
      "\u001b[?25hRequirement already satisfied: numpy>=1.18.0 in ./env/lib/python3.13/site-packages (from gym) (2.2.3)\n",
      "Collecting cloudpickle>=1.2.0 (from gym)\n",
      "  Using cached cloudpickle-3.1.1-py3-none-any.whl.metadata (7.1 kB)\n",
      "Collecting gym_notices>=0.0.4 (from gym)\n",
      "  Using cached gym_notices-0.0.8-py3-none-any.whl.metadata (1.0 kB)\n",
      "Using cached cloudpickle-3.1.1-py3-none-any.whl (20 kB)\n",
      "Using cached gym_notices-0.0.8-py3-none-any.whl (3.0 kB)\n",
      "Building wheels for collected packages: gym\n",
      "  Building wheel for gym (pyproject.toml) ... \u001b[?25ldone\n",
      "\u001b[?25h  Created wheel for gym: filename=gym-0.26.2-py3-none-any.whl size=827694 sha256=df2812a95d2aa3c545752693112972bf17543cc586af3be6dd48884f385d0499\n",
      "  Stored in directory: /Users/kdn_aikothalavanya/Library/Caches/pip/wheels/1d/34/c6/856a1e1eff47d8f18545c833b6138ae1e9f53c7de9bcc5f31d\n",
      "Successfully built gym\n",
      "Installing collected packages: gym_notices, cloudpickle, gym\n",
      "Successfully installed cloudpickle-3.1.1 gym-0.26.2 gym_notices-0.0.8\n",
      "\n",
      "\u001b[1m[\u001b[0m\u001b[34;49mnotice\u001b[0m\u001b[1;39;49m]\u001b[0m\u001b[39;49m A new release of pip is available: \u001b[0m\u001b[31;49m25.0\u001b[0m\u001b[39;49m -> \u001b[0m\u001b[32;49m25.0.1\u001b[0m\n",
      "\u001b[1m[\u001b[0m\u001b[34;49mnotice\u001b[0m\u001b[1;39;49m]\u001b[0m\u001b[39;49m To update, run: \u001b[0m\u001b[32;49mpip install --upgrade pip\u001b[0m\n"
     ]
    }
   ],
   "source": [
    "! pip install gym"
   ]
  },
  {
   "cell_type": "code",
   "execution_count": 6,
   "metadata": {},
   "outputs": [],
   "source": [
    "import gym\n",
    "from gym import spaces\n",
    "import numpy as np\n",
    "\n",
    "class CarbonEmissionEnv(gym.Env):\n",
    "    def __init__(self, data):\n",
    "        super(CarbonEmissionEnv, self).__init__()\n",
    "        self.data = data  # List of data points\n",
    "        self.current_step = 0\n",
    "\n",
    "        # Define action and observation space\n",
    "        self.action_space = spaces.Discrete(3)  # Actions: Reduce, Maintain, Increase emissions\n",
    "        self.observation_space = spaces.Box(\n",
    "            low=0, high=np.inf, shape=(3,), dtype=np.float32\n",
    "        )  # Features: coal, year, total emissions\n",
    "\n",
    "    def reset(self):\n",
    "        self.current_step = 0\n",
    "        return self._next_observation()\n",
    "\n",
    "    def _next_observation(self):\n",
    "        row = self.data[self.current_step]\n",
    "        return np.array([row[\"coal\"], row[\"year\"], row[\"total\"]])\n",
    "\n",
    "    def step(self, action):\n",
    "        row = self.data[self.current_step]\n",
    "        reward = self._calculate_reward(action, row)\n",
    "\n",
    "        self.current_step += 1\n",
    "        done = self.current_step >= len(self.data)\n",
    "\n",
    "        return self._next_observation(), reward, done, {}\n",
    "\n",
    "    def _calculate_reward(self, action, row):\n",
    "        coal_emission = row[\"coal\"]\n",
    "        if action == 0:  # Reduce emissions\n",
    "            reward = -coal_emission * 0.1\n",
    "        elif action == 1:  # Maintain emissions\n",
    "            reward = -coal_emission * 0.05\n",
    "        else:  # Increase emissions\n",
    "            reward = -coal_emission * 0.2\n",
    "        return reward\n"
   ]
  },
  {
   "cell_type": "code",
   "execution_count": 19,
   "metadata": {},
   "outputs": [
    {
     "name": "stdout",
     "output_type": "stream",
     "text": [
      "Requirement already satisfied: pip in ./env/lib/python3.13/site-packages (25.0)\n",
      "Collecting pip\n",
      "  Using cached pip-25.0.1-py3-none-any.whl.metadata (3.7 kB)\n",
      "Using cached pip-25.0.1-py3-none-any.whl (1.8 MB)\n",
      "Installing collected packages: pip\n",
      "  Attempting uninstall: pip\n",
      "    Found existing installation: pip 25.0\n",
      "    Uninstalling pip-25.0:\n",
      "      Successfully uninstalled pip-25.0\n",
      "Successfully installed pip-25.0.1\n"
     ]
    }
   ],
   "source": [
    "! pip install --upgrade pip\n"
   ]
  },
  {
   "cell_type": "code",
   "execution_count": 29,
   "metadata": {},
   "outputs": [
    {
     "name": "stdout",
     "output_type": "stream",
     "text": [
      "Collecting stable-baselines3==2.5.0\n",
      "  Using cached stable_baselines3-2.5.0-py3-none-any.whl.metadata (4.8 kB)\n",
      "Collecting gymnasium==0.29.1\n",
      "  Using cached gymnasium-0.29.1-py3-none-any.whl.metadata (10 kB)\n",
      "Requirement already satisfied: numpy<3.0,>=1.20 in ./env/lib/python3.13/site-packages (from stable-baselines3==2.5.0) (2.2.3)\n",
      "INFO: pip is looking at multiple versions of stable-baselines3 to determine which version is compatible with other requirements. This could take a while.\n",
      "\u001b[31mERROR: Could not find a version that satisfies the requirement torch<3.0,>=2.3 (from stable-baselines3) (from versions: none)\u001b[0m\u001b[31m\n",
      "\u001b[0m\u001b[31mERROR: No matching distribution found for torch<3.0,>=2.3\u001b[0m\u001b[31m\n",
      "\u001b[0m"
     ]
    }
   ],
   "source": [
    "! pip install stable-baselines3==2.5.0 gymnasium==0.29.1 \n",
    "\n"
   ]
  },
  {
   "cell_type": "code",
   "execution_count": 37,
   "metadata": {},
   "outputs": [
    {
     "name": "stdout",
     "output_type": "stream",
     "text": [
      "Collecting stable-baselines3\n",
      "  Using cached stable_baselines3-2.5.0-py3-none-any.whl.metadata (4.8 kB)\n",
      "Collecting gymnasium<1.1.0,>=0.29.1 (from stable-baselines3)\n",
      "  Using cached gymnasium-1.0.0-py3-none-any.whl.metadata (9.5 kB)\n",
      "Requirement already satisfied: numpy<3.0,>=1.20 in ./env/lib/python3.13/site-packages (from stable-baselines3) (2.2.3)\n",
      "INFO: pip is looking at multiple versions of stable-baselines3 to determine which version is compatible with other requirements. This could take a while.\n",
      "Collecting stable-baselines3\n",
      "  Using cached stable_baselines3-2.4.1-py3-none-any.whl.metadata (4.5 kB)\n",
      "Collecting numpy<2.0,>=1.20 (from stable-baselines3)\n",
      "  Using cached numpy-1.26.4.tar.gz (15.8 MB)\n",
      "  Installing build dependencies ... \u001b[?25ldone\n",
      "\u001b[?25h  Getting requirements to build wheel ... \u001b[?25ldone\n",
      "\u001b[?25h  Preparing metadata (pyproject.toml) ... \u001b[?25ldone\n",
      "\u001b[?25hCollecting stable-baselines3\n",
      "  Using cached stable_baselines3-2.4.0-py3-none-any.whl.metadata (4.5 kB)\n",
      "  Using cached stable_baselines3-2.3.2-py3-none-any.whl.metadata (5.1 kB)\n",
      "Collecting gymnasium<0.30,>=0.28.1 (from stable-baselines3)\n",
      "  Using cached gymnasium-0.29.1-py3-none-any.whl.metadata (10 kB)\n",
      "Collecting stable-baselines3\n",
      "  Using cached stable_baselines3-2.2.1-py3-none-any.whl.metadata (5.0 kB)\n",
      "  Using cached stable_baselines3-2.1.0-py3-none-any.whl.metadata (5.2 kB)\n",
      "  Using cached stable_baselines3-2.0.0-py3-none-any.whl.metadata (5.4 kB)\n",
      "Collecting gymnasium==0.28.1 (from stable-baselines3)\n",
      "  Using cached gymnasium-0.28.1-py3-none-any.whl.metadata (9.2 kB)\n",
      "Collecting stable-baselines3\n",
      "  Using cached stable_baselines3-1.8.0-py3-none-any.whl.metadata (5.0 kB)\n",
      "Collecting gym==0.21 (from stable-baselines3)\n",
      "  Using cached gym-0.21.0.tar.gz (1.5 MB)\n",
      "  Preparing metadata (setup.py) ... \u001b[?25lerror\n",
      "  \u001b[1;31merror\u001b[0m: \u001b[1msubprocess-exited-with-error\u001b[0m\n",
      "  \n",
      "  \u001b[31m×\u001b[0m \u001b[32mpython setup.py egg_info\u001b[0m did not run successfully.\n",
      "  \u001b[31m│\u001b[0m exit code: \u001b[1;36m1\u001b[0m\n",
      "  \u001b[31m╰─>\u001b[0m \u001b[31m[3 lines of output]\u001b[0m\n",
      "  \u001b[31m   \u001b[0m /Users/kdn_aikothalavanya/Desktop/KPMG Projects/carbonfootprint/env/lib/python3.13/site-packages/setuptools/_distutils/dist.py:289: UserWarning: Unknown distribution option: 'tests_require'\n",
      "  \u001b[31m   \u001b[0m   warnings.warn(msg)\n",
      "  \u001b[31m   \u001b[0m error in gym setup command: 'extras_require' must be a dictionary whose values are strings or lists of strings containing valid project/version requirement specifiers.\n",
      "  \u001b[31m   \u001b[0m \u001b[31m[end of output]\u001b[0m\n",
      "  \n",
      "  \u001b[1;35mnote\u001b[0m: This error originates from a subprocess, and is likely not a problem with pip.\n",
      "\u001b[?25h\u001b[1;31merror\u001b[0m: \u001b[1mmetadata-generation-failed\u001b[0m\n",
      "\n",
      "\u001b[31m×\u001b[0m Encountered error while generating package metadata.\n",
      "\u001b[31m╰─>\u001b[0m See above for output.\n",
      "\n",
      "\u001b[1;35mnote\u001b[0m: This is an issue with the package mentioned above, not pip.\n",
      "\u001b[1;36mhint\u001b[0m: See above for details.\n",
      "Collecting PPO\n",
      "  Downloading ppo-0.1.1.tar.gz (2.7 kB)\n",
      "  Preparing metadata (setup.py) ... \u001b[?25ldone\n",
      "\u001b[?25hCollecting PyYaml (from PPO)\n",
      "  Downloading PyYAML-6.0.2-cp313-cp313-macosx_10_13_x86_64.whl.metadata (2.1 kB)\n",
      "Collecting lxml (from PPO)\n",
      "  Downloading lxml-5.3.1-cp313-cp313-macosx_10_13_x86_64.whl.metadata (3.7 kB)\n",
      "Collecting importlib (from PPO)\n",
      "  Downloading importlib-1.0.4.zip (7.1 kB)\n",
      "  Preparing metadata (setup.py) ... \u001b[?25lerror\n",
      "  \u001b[1;31merror\u001b[0m: \u001b[1msubprocess-exited-with-error\u001b[0m\n",
      "  \n",
      "  \u001b[31m×\u001b[0m \u001b[32mpython setup.py egg_info\u001b[0m did not run successfully.\n",
      "  \u001b[31m│\u001b[0m exit code: \u001b[1;36m1\u001b[0m\n",
      "  \u001b[31m╰─>\u001b[0m \u001b[31m[1 lines of output]\u001b[0m\n",
      "  \u001b[31m   \u001b[0m ERROR: Can not execute `setup.py` since setuptools is not available in the build environment.\n",
      "  \u001b[31m   \u001b[0m \u001b[31m[end of output]\u001b[0m\n",
      "  \n",
      "  \u001b[1;35mnote\u001b[0m: This error originates from a subprocess, and is likely not a problem with pip.\n",
      "\u001b[?25h\u001b[1;31merror\u001b[0m: \u001b[1mmetadata-generation-failed\u001b[0m\n",
      "\n",
      "\u001b[31m×\u001b[0m Encountered error while generating package metadata.\n",
      "\u001b[31m╰─>\u001b[0m See above for output.\n",
      "\n",
      "\u001b[1;35mnote\u001b[0m: This is an issue with the package mentioned above, not pip.\n",
      "\u001b[1;36mhint\u001b[0m: See above for details.\n"
     ]
    }
   ],
   "source": [
    "! pip install stable-baselines3\n",
    "! pip install PPO\n"
   ]
  },
  {
   "cell_type": "code",
   "execution_count": null,
   "metadata": {},
   "outputs": [
    {
     "ename": "ModuleNotFoundError",
     "evalue": "No module named 'tensorflow'",
     "output_type": "error",
     "traceback": [
      "\u001b[31m---------------------------------------------------------------------------\u001b[39m",
      "\u001b[31mModuleNotFoundError\u001b[39m                       Traceback (most recent call last)",
      "\u001b[36mCell\u001b[39m\u001b[36m \u001b[39m\u001b[32mIn[46]\u001b[39m\u001b[32m, line 1\u001b[39m\n\u001b[32m----> \u001b[39m\u001b[32m1\u001b[39m \u001b[38;5;28;01mimport\u001b[39;00m\u001b[38;5;250m \u001b[39m\u001b[34;01mtensorflow\u001b[39;00m\u001b[38;5;250m \u001b[39m\u001b[38;5;28;01mas\u001b[39;00m\u001b[38;5;250m \u001b[39m\u001b[34;01mtf\u001b[39;00m \u001b[38;5;66;03m# type: ignore\u001b[39;00m\n\u001b[32m      2\u001b[39m \u001b[38;5;28;01mfrom\u001b[39;00m\u001b[38;5;250m \u001b[39m\u001b[34;01mtensorflow\u001b[39;00m\u001b[34;01m.\u001b[39;00m\u001b[34;01mkeras\u001b[39;00m\u001b[38;5;250m \u001b[39m\u001b[38;5;28;01mimport\u001b[39;00m models, layers \u001b[38;5;66;03m# type: ignore\u001b[39;00m\n\u001b[32m      3\u001b[39m \u001b[38;5;28;01mfrom\u001b[39;00m\u001b[38;5;250m \u001b[39m\u001b[34;01mcollections\u001b[39;00m\u001b[38;5;250m \u001b[39m\u001b[38;5;28;01mimport\u001b[39;00m deque\n",
      "\u001b[31mModuleNotFoundError\u001b[39m: No module named 'tensorflow'"
     ]
    }
   ],
   "source": [
    "import tensorflow as tf \n",
    "from tensorflow.keras import models, layers\n",
    "from collections import deque\n",
    "import random\n",
    "\n",
    "class DQNAgent:\n",
    "    def __init__(self, state_size, action_size):\n",
    "        self.state_size = state_size\n",
    "        self.action_size = action_size\n",
    "        self.memory = deque(maxlen=2000)\n",
    "        self.gamma = 0.95  # Discount factor\n",
    "        self.epsilon = 1.0  # Exploration rate\n",
    "        self.epsilon_min = 0.01\n",
    "        self.epsilon_decay = 0.995\n",
    "        self.learning_rate = 0.001\n",
    "        self.model = self._build_model()\n",
    "    \n",
    "    def _build_model(self):\n",
    "        model = models.Sequential([\n",
    "            layers.Dense(24, input_dim=self.state_size, activation='relu'),\n",
    "            layers.Dense(24, activation='relu'),\n",
    "            layers.Dense(self.action_size, activation='linear')\n",
    "        ])\n",
    "        model.compile(optimizer=tf.keras.optimizers.Adam(lr=self.learning_rate), loss='mse')\n",
    "        return model\n",
    "    \n",
    "    def act(self, state):\n",
    "        if np.random.rand() <= self.epsilon:\n",
    "            return random.randrange(self.action_size)\n",
    "        q_values = self.model.predict(state)\n",
    "        return np.argmax(q_values[0])\n",
    "    \n",
    "    def remember(self, state, action, reward, next_state, done):\n",
    "        self.memory.append((state, action, reward, next_state, done))\n",
    "    \n",
    "    def replay(self, batch_size):\n",
    "        minibatch = random.sample(self.memory, batch_size)\n",
    "        for state, action, reward, next_state, done in minibatch:\n",
    "            target = reward\n",
    "            if not done:\n",
    "                target += self.gamma * np.amax(self.model.predict(next_state)[0])\n",
    "            target_f = self.model.predict(state)\n",
    "            target_f[0][action] = target\n",
    "            self.model.fit(state, target_f, epochs=1, verbose=0)\n",
    "        if self.epsilon > self.epsilon_min:\n",
    "            self.epsilon *= self.epsilon_decay\n",
    "\n",
    "# Initialize environment and agent\n",
    "state_size = 4\n",
    "action_size = 3\n",
    "env = CarbonEmissionsEnv(consumer)\n",
    "agent = DQNAgent(state_size, action_size)\n",
    "\n",
    "# Train the agent\n",
    "episodes = 100\n",
    "for e in range(episodes):\n",
    "    state = env.reset()\n",
    "    state = np.reshape(state, [1, state_size])\n",
    "    for time in range(500):\n",
    "        action = agent.act(state)\n",
    "        next_state, reward, done, _ = env.step(action)\n",
    "        next_state = np.reshape(next_state, [1, state_size])\n",
    "        agent.remember(state, action, reward, next_state, done)\n",
    "        state = next_state\n",
    "        if done:\n",
    "            print(f\"episode: {e}/{episodes}, score: {time}\")\n",
    "            break\n",
    "    agent.replay(32)\n"
   ]
  }
 ],
 "metadata": {
  "kernelspec": {
   "display_name": "env",
   "language": "python",
   "name": "python3"
  },
  "language_info": {
   "codemirror_mode": {
    "name": "ipython",
    "version": 3
   },
   "file_extension": ".py",
   "mimetype": "text/x-python",
   "name": "python",
   "nbconvert_exporter": "python",
   "pygments_lexer": "ipython3",
   "version": "3.13.2"
  }
 },
 "nbformat": 4,
 "nbformat_minor": 2
}
