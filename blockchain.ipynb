{
 "cells": [
  {
   "cell_type": "code",
   "execution_count": 6,
   "metadata": {},
   "outputs": [
    {
     "name": "stdout",
     "output_type": "stream",
     "text": [
      "Requirement already satisfied: web3 in /opt/anaconda3/envs/tf_env/lib/python3.10/site-packages (7.9.0)\n",
      "Requirement already satisfied: eth-abi>=5.0.1 in /opt/anaconda3/envs/tf_env/lib/python3.10/site-packages (from web3) (5.2.0)\n",
      "Requirement already satisfied: eth-account>=0.13.1 in /opt/anaconda3/envs/tf_env/lib/python3.10/site-packages (from web3) (0.13.5)\n",
      "Requirement already satisfied: eth-hash>=0.5.1 in /opt/anaconda3/envs/tf_env/lib/python3.10/site-packages (from eth-hash[pycryptodome]>=0.5.1->web3) (0.7.1)\n",
      "Requirement already satisfied: eth-typing>=5.0.0 in /opt/anaconda3/envs/tf_env/lib/python3.10/site-packages (from web3) (5.2.0)\n",
      "Requirement already satisfied: eth-utils>=5.0.0 in /opt/anaconda3/envs/tf_env/lib/python3.10/site-packages (from web3) (5.2.0)\n",
      "Requirement already satisfied: hexbytes>=1.2.0 in /opt/anaconda3/envs/tf_env/lib/python3.10/site-packages (from web3) (1.3.0)\n",
      "Requirement already satisfied: aiohttp>=3.7.4.post0 in /opt/anaconda3/envs/tf_env/lib/python3.10/site-packages (from web3) (3.11.14)\n",
      "Requirement already satisfied: pydantic>=2.4.0 in /opt/anaconda3/envs/tf_env/lib/python3.10/site-packages (from web3) (2.10.6)\n",
      "Requirement already satisfied: requests>=2.23.0 in /opt/anaconda3/envs/tf_env/lib/python3.10/site-packages (from web3) (2.32.3)\n",
      "Requirement already satisfied: typing-extensions>=4.0.1 in /opt/anaconda3/envs/tf_env/lib/python3.10/site-packages (from web3) (4.12.2)\n",
      "Requirement already satisfied: types-requests>=2.0.0 in /opt/anaconda3/envs/tf_env/lib/python3.10/site-packages (from web3) (2.32.0.20250306)\n",
      "Requirement already satisfied: websockets<14.0.0,>=10.0.0 in /opt/anaconda3/envs/tf_env/lib/python3.10/site-packages (from web3) (13.1)\n",
      "Requirement already satisfied: pyunormalize>=15.0.0 in /opt/anaconda3/envs/tf_env/lib/python3.10/site-packages (from web3) (16.0.0)\n",
      "Requirement already satisfied: aiohappyeyeballs>=2.3.0 in /opt/anaconda3/envs/tf_env/lib/python3.10/site-packages (from aiohttp>=3.7.4.post0->web3) (2.6.1)\n",
      "Requirement already satisfied: aiosignal>=1.1.2 in /opt/anaconda3/envs/tf_env/lib/python3.10/site-packages (from aiohttp>=3.7.4.post0->web3) (1.3.2)\n",
      "Requirement already satisfied: async-timeout<6.0,>=4.0 in /opt/anaconda3/envs/tf_env/lib/python3.10/site-packages (from aiohttp>=3.7.4.post0->web3) (5.0.1)\n",
      "Requirement already satisfied: attrs>=17.3.0 in /opt/anaconda3/envs/tf_env/lib/python3.10/site-packages (from aiohttp>=3.7.4.post0->web3) (25.3.0)\n",
      "Requirement already satisfied: frozenlist>=1.1.1 in /opt/anaconda3/envs/tf_env/lib/python3.10/site-packages (from aiohttp>=3.7.4.post0->web3) (1.5.0)\n",
      "Requirement already satisfied: multidict<7.0,>=4.5 in /opt/anaconda3/envs/tf_env/lib/python3.10/site-packages (from aiohttp>=3.7.4.post0->web3) (6.2.0)\n",
      "Requirement already satisfied: propcache>=0.2.0 in /opt/anaconda3/envs/tf_env/lib/python3.10/site-packages (from aiohttp>=3.7.4.post0->web3) (0.2.1)\n",
      "Requirement already satisfied: yarl<2.0,>=1.17.0 in /opt/anaconda3/envs/tf_env/lib/python3.10/site-packages (from aiohttp>=3.7.4.post0->web3) (1.18.3)\n",
      "Requirement already satisfied: parsimonious<0.11.0,>=0.10.0 in /opt/anaconda3/envs/tf_env/lib/python3.10/site-packages (from eth-abi>=5.0.1->web3) (0.10.0)\n",
      "Requirement already satisfied: bitarray>=2.4.0 in /opt/anaconda3/envs/tf_env/lib/python3.10/site-packages (from eth-account>=0.13.1->web3) (3.2.0)\n",
      "Requirement already satisfied: eth-keyfile<0.9.0,>=0.7.0 in /opt/anaconda3/envs/tf_env/lib/python3.10/site-packages (from eth-account>=0.13.1->web3) (0.8.1)\n",
      "Requirement already satisfied: eth-keys>=0.4.0 in /opt/anaconda3/envs/tf_env/lib/python3.10/site-packages (from eth-account>=0.13.1->web3) (0.6.1)\n",
      "Requirement already satisfied: eth-rlp>=2.1.0 in /opt/anaconda3/envs/tf_env/lib/python3.10/site-packages (from eth-account>=0.13.1->web3) (2.2.0)\n",
      "Requirement already satisfied: rlp>=1.0.0 in /opt/anaconda3/envs/tf_env/lib/python3.10/site-packages (from eth-account>=0.13.1->web3) (4.1.0)\n",
      "Requirement already satisfied: ckzg>=2.0.0 in /opt/anaconda3/envs/tf_env/lib/python3.10/site-packages (from eth-account>=0.13.1->web3) (2.1.0)\n",
      "Requirement already satisfied: pycryptodome<4,>=3.6.6 in /opt/anaconda3/envs/tf_env/lib/python3.10/site-packages (from eth-hash[pycryptodome]>=0.5.1->web3) (3.22.0)\n",
      "Requirement already satisfied: cytoolz>=0.10.1 in /opt/anaconda3/envs/tf_env/lib/python3.10/site-packages (from eth-utils>=5.0.0->web3) (1.0.1)\n",
      "Requirement already satisfied: annotated-types>=0.6.0 in /opt/anaconda3/envs/tf_env/lib/python3.10/site-packages (from pydantic>=2.4.0->web3) (0.7.0)\n",
      "Requirement already satisfied: pydantic-core==2.27.2 in /opt/anaconda3/envs/tf_env/lib/python3.10/site-packages (from pydantic>=2.4.0->web3) (2.27.2)\n",
      "Requirement already satisfied: charset-normalizer<4,>=2 in /opt/anaconda3/envs/tf_env/lib/python3.10/site-packages (from requests>=2.23.0->web3) (3.3.2)\n",
      "Requirement already satisfied: idna<4,>=2.5 in /opt/anaconda3/envs/tf_env/lib/python3.10/site-packages (from requests>=2.23.0->web3) (3.10)\n",
      "Requirement already satisfied: urllib3<3,>=1.21.1 in /opt/anaconda3/envs/tf_env/lib/python3.10/site-packages (from requests>=2.23.0->web3) (2.3.0)\n",
      "Requirement already satisfied: certifi>=2017.4.17 in /opt/anaconda3/envs/tf_env/lib/python3.10/site-packages (from requests>=2.23.0->web3) (2025.1.31)\n",
      "Requirement already satisfied: toolz>=0.8.0 in /opt/anaconda3/envs/tf_env/lib/python3.10/site-packages (from cytoolz>=0.10.1->eth-utils>=5.0.0->web3) (1.0.0)\n",
      "Requirement already satisfied: regex>=2022.3.15 in /opt/anaconda3/envs/tf_env/lib/python3.10/site-packages (from parsimonious<0.11.0,>=0.10.0->eth-abi>=5.0.1->web3) (2024.11.6)\n"
     ]
    }
   ],
   "source": [
    "! pip install web3\n"
   ]
  },
  {
   "cell_type": "code",
   "execution_count": null,
   "metadata": {},
   "outputs": [
    {
     "name": "stdout",
     "output_type": "stream",
     "text": [
      "Successfully connected to Binance Smart Chain!\n",
      "Current Block Number: 47799337\n"
     ]
    }
   ],
   "source": [
    "from web3 import Web3\n",
    "\n",
    "\n",
    "bsc_rpc_url = \"https://rpc.ankr.com/bsc/48b208604a24d6b44887751595a5f16a82814b1aecdb818edfd89f7a12da96b8\"  # Mainnet RPC URL\n",
    "\n",
    "\n",
    "web3 = Web3(Web3.HTTPProvider(bsc_rpc_url))\n",
    "\n",
    "\n",
    "if web3.is_connected():  \n",
    "    print(\"Successfully connected to Binance Smart Chain!\")\n",
    "    print(f\"Current Block Number: {web3.eth.block_number}\")\n",
    "else:\n",
    "    print(\"Failed to connect to Binance Smart Chain.\")\n"
   ]
  },
  {
   "cell_type": "code",
   "execution_count": null,
   "metadata": {},
   "outputs": [
    {
     "name": "stdout",
     "output_type": "stream",
     "text": [
      "Connected to Binance Smart Chain!\n",
      "Wallet Balance: 0 BNB\n"
     ]
    }
   ],
   "source": [
    "from web3 import Web3\n",
    "\n",
    "\n",
    "wallet_address = \"0x1a4c3b6c7a08c0989Ff780514568ed85786aa659\"\n",
    "\n",
    "bsc_rpc_url = \"https://rpc.ankr.com/bsc/48b208604a24d6b44887751595a5f16a82814b1aecdb818edfd89f7a12da96b8\"\n",
    "web3 = Web3(Web3.HTTPProvider(bsc_rpc_url))\n",
    "\n",
    "\n",
    "if not web3.is_connected():\n",
    "    print(\"Failed to connect to Binance Smart Chain\")\n",
    "else:\n",
    "    print(\"Connected to Binance Smart Chain!\")\n",
    "\n",
    "    \n",
    "    balance_wei = web3.eth.get_balance(wallet_address)\n",
    "\n",
    "    \n",
    "    balance_bnb = Web3.from_wei(balance_wei, 'ether')\n",
    "    print(f\"Wallet Balance: {balance_bnb} BNB\")\n"
   ]
  },
  {
   "cell_type": "code",
   "execution_count": 9,
   "metadata": {},
   "outputs": [
    {
     "name": "stdout",
     "output_type": "stream",
     "text": [
      "Requirement already satisfied: web3 in /opt/anaconda3/envs/tf_env/lib/python3.10/site-packages (7.9.0)\n",
      "Collecting py-solc-x\n",
      "  Downloading py_solc_x-2.0.3-py3-none-any.whl.metadata (5.8 kB)\n",
      "Requirement already satisfied: eth-abi>=5.0.1 in /opt/anaconda3/envs/tf_env/lib/python3.10/site-packages (from web3) (5.2.0)\n",
      "Requirement already satisfied: eth-account>=0.13.1 in /opt/anaconda3/envs/tf_env/lib/python3.10/site-packages (from web3) (0.13.5)\n",
      "Requirement already satisfied: eth-hash>=0.5.1 in /opt/anaconda3/envs/tf_env/lib/python3.10/site-packages (from eth-hash[pycryptodome]>=0.5.1->web3) (0.7.1)\n",
      "Requirement already satisfied: eth-typing>=5.0.0 in /opt/anaconda3/envs/tf_env/lib/python3.10/site-packages (from web3) (5.2.0)\n",
      "Requirement already satisfied: eth-utils>=5.0.0 in /opt/anaconda3/envs/tf_env/lib/python3.10/site-packages (from web3) (5.2.0)\n",
      "Requirement already satisfied: hexbytes>=1.2.0 in /opt/anaconda3/envs/tf_env/lib/python3.10/site-packages (from web3) (1.3.0)\n",
      "Requirement already satisfied: aiohttp>=3.7.4.post0 in /opt/anaconda3/envs/tf_env/lib/python3.10/site-packages (from web3) (3.11.14)\n",
      "Requirement already satisfied: pydantic>=2.4.0 in /opt/anaconda3/envs/tf_env/lib/python3.10/site-packages (from web3) (2.10.6)\n",
      "Requirement already satisfied: requests>=2.23.0 in /opt/anaconda3/envs/tf_env/lib/python3.10/site-packages (from web3) (2.32.3)\n",
      "Requirement already satisfied: typing-extensions>=4.0.1 in /opt/anaconda3/envs/tf_env/lib/python3.10/site-packages (from web3) (4.12.2)\n",
      "Requirement already satisfied: types-requests>=2.0.0 in /opt/anaconda3/envs/tf_env/lib/python3.10/site-packages (from web3) (2.32.0.20250306)\n",
      "Requirement already satisfied: websockets<14.0.0,>=10.0.0 in /opt/anaconda3/envs/tf_env/lib/python3.10/site-packages (from web3) (13.1)\n",
      "Requirement already satisfied: pyunormalize>=15.0.0 in /opt/anaconda3/envs/tf_env/lib/python3.10/site-packages (from web3) (16.0.0)\n",
      "Collecting packaging<24,>=23.1 (from py-solc-x)\n",
      "  Downloading packaging-23.2-py3-none-any.whl.metadata (3.2 kB)\n",
      "Requirement already satisfied: aiohappyeyeballs>=2.3.0 in /opt/anaconda3/envs/tf_env/lib/python3.10/site-packages (from aiohttp>=3.7.4.post0->web3) (2.6.1)\n",
      "Requirement already satisfied: aiosignal>=1.1.2 in /opt/anaconda3/envs/tf_env/lib/python3.10/site-packages (from aiohttp>=3.7.4.post0->web3) (1.3.2)\n",
      "Requirement already satisfied: async-timeout<6.0,>=4.0 in /opt/anaconda3/envs/tf_env/lib/python3.10/site-packages (from aiohttp>=3.7.4.post0->web3) (5.0.1)\n",
      "Requirement already satisfied: attrs>=17.3.0 in /opt/anaconda3/envs/tf_env/lib/python3.10/site-packages (from aiohttp>=3.7.4.post0->web3) (25.3.0)\n",
      "Requirement already satisfied: frozenlist>=1.1.1 in /opt/anaconda3/envs/tf_env/lib/python3.10/site-packages (from aiohttp>=3.7.4.post0->web3) (1.5.0)\n",
      "Requirement already satisfied: multidict<7.0,>=4.5 in /opt/anaconda3/envs/tf_env/lib/python3.10/site-packages (from aiohttp>=3.7.4.post0->web3) (6.2.0)\n",
      "Requirement already satisfied: propcache>=0.2.0 in /opt/anaconda3/envs/tf_env/lib/python3.10/site-packages (from aiohttp>=3.7.4.post0->web3) (0.2.1)\n",
      "Requirement already satisfied: yarl<2.0,>=1.17.0 in /opt/anaconda3/envs/tf_env/lib/python3.10/site-packages (from aiohttp>=3.7.4.post0->web3) (1.18.3)\n",
      "Requirement already satisfied: parsimonious<0.11.0,>=0.10.0 in /opt/anaconda3/envs/tf_env/lib/python3.10/site-packages (from eth-abi>=5.0.1->web3) (0.10.0)\n",
      "Requirement already satisfied: bitarray>=2.4.0 in /opt/anaconda3/envs/tf_env/lib/python3.10/site-packages (from eth-account>=0.13.1->web3) (3.2.0)\n",
      "Requirement already satisfied: eth-keyfile<0.9.0,>=0.7.0 in /opt/anaconda3/envs/tf_env/lib/python3.10/site-packages (from eth-account>=0.13.1->web3) (0.8.1)\n",
      "Requirement already satisfied: eth-keys>=0.4.0 in /opt/anaconda3/envs/tf_env/lib/python3.10/site-packages (from eth-account>=0.13.1->web3) (0.6.1)\n",
      "Requirement already satisfied: eth-rlp>=2.1.0 in /opt/anaconda3/envs/tf_env/lib/python3.10/site-packages (from eth-account>=0.13.1->web3) (2.2.0)\n",
      "Requirement already satisfied: rlp>=1.0.0 in /opt/anaconda3/envs/tf_env/lib/python3.10/site-packages (from eth-account>=0.13.1->web3) (4.1.0)\n",
      "Requirement already satisfied: ckzg>=2.0.0 in /opt/anaconda3/envs/tf_env/lib/python3.10/site-packages (from eth-account>=0.13.1->web3) (2.1.0)\n",
      "Requirement already satisfied: pycryptodome<4,>=3.6.6 in /opt/anaconda3/envs/tf_env/lib/python3.10/site-packages (from eth-hash[pycryptodome]>=0.5.1->web3) (3.22.0)\n",
      "Requirement already satisfied: cytoolz>=0.10.1 in /opt/anaconda3/envs/tf_env/lib/python3.10/site-packages (from eth-utils>=5.0.0->web3) (1.0.1)\n",
      "Requirement already satisfied: annotated-types>=0.6.0 in /opt/anaconda3/envs/tf_env/lib/python3.10/site-packages (from pydantic>=2.4.0->web3) (0.7.0)\n",
      "Requirement already satisfied: pydantic-core==2.27.2 in /opt/anaconda3/envs/tf_env/lib/python3.10/site-packages (from pydantic>=2.4.0->web3) (2.27.2)\n",
      "Requirement already satisfied: charset-normalizer<4,>=2 in /opt/anaconda3/envs/tf_env/lib/python3.10/site-packages (from requests>=2.23.0->web3) (3.3.2)\n",
      "Requirement already satisfied: idna<4,>=2.5 in /opt/anaconda3/envs/tf_env/lib/python3.10/site-packages (from requests>=2.23.0->web3) (3.10)\n",
      "Requirement already satisfied: urllib3<3,>=1.21.1 in /opt/anaconda3/envs/tf_env/lib/python3.10/site-packages (from requests>=2.23.0->web3) (2.3.0)\n",
      "Requirement already satisfied: certifi>=2017.4.17 in /opt/anaconda3/envs/tf_env/lib/python3.10/site-packages (from requests>=2.23.0->web3) (2025.1.31)\n",
      "Requirement already satisfied: toolz>=0.8.0 in /opt/anaconda3/envs/tf_env/lib/python3.10/site-packages (from cytoolz>=0.10.1->eth-utils>=5.0.0->web3) (1.0.0)\n",
      "Requirement already satisfied: regex>=2022.3.15 in /opt/anaconda3/envs/tf_env/lib/python3.10/site-packages (from parsimonious<0.11.0,>=0.10.0->eth-abi>=5.0.1->web3) (2024.11.6)\n",
      "Downloading py_solc_x-2.0.3-py3-none-any.whl (18 kB)\n",
      "Downloading packaging-23.2-py3-none-any.whl (53 kB)\n",
      "Installing collected packages: packaging, py-solc-x\n",
      "  Attempting uninstall: packaging\n",
      "    Found existing installation: packaging 24.2\n",
      "    Uninstalling packaging-24.2:\n",
      "      Successfully uninstalled packaging-24.2\n",
      "Successfully installed packaging-23.2 py-solc-x-2.0.3\n"
     ]
    }
   ],
   "source": [
    "! pip install web3 py-solc-x\n"
   ]
  },
  {
   "cell_type": "code",
   "execution_count": 15,
   "metadata": {},
   "outputs": [
    {
     "name": "stdout",
     "output_type": "stream",
     "text": [
      "Requirement already satisfied: py-solc-x in /opt/anaconda3/envs/tf_env/lib/python3.10/site-packages (2.0.3)\n",
      "Requirement already satisfied: requests<3,>=2.19.0 in /opt/anaconda3/envs/tf_env/lib/python3.10/site-packages (from py-solc-x) (2.32.3)\n",
      "Requirement already satisfied: packaging<24,>=23.1 in /opt/anaconda3/envs/tf_env/lib/python3.10/site-packages (from py-solc-x) (23.2)\n",
      "Requirement already satisfied: charset-normalizer<4,>=2 in /opt/anaconda3/envs/tf_env/lib/python3.10/site-packages (from requests<3,>=2.19.0->py-solc-x) (3.3.2)\n",
      "Requirement already satisfied: idna<4,>=2.5 in /opt/anaconda3/envs/tf_env/lib/python3.10/site-packages (from requests<3,>=2.19.0->py-solc-x) (3.10)\n",
      "Requirement already satisfied: urllib3<3,>=1.21.1 in /opt/anaconda3/envs/tf_env/lib/python3.10/site-packages (from requests<3,>=2.19.0->py-solc-x) (2.3.0)\n",
      "Requirement already satisfied: certifi>=2017.4.17 in /opt/anaconda3/envs/tf_env/lib/python3.10/site-packages (from requests<3,>=2.19.0->py-solc-x) (2025.1.31)\n"
     ]
    }
   ],
   "source": [
    "! pip install py-solc-x\n"
   ]
  },
  {
   "cell_type": "code",
   "execution_count": 17,
   "metadata": {},
   "outputs": [
    {
     "data": {
      "text/plain": [
       "<Version('0.8.0')>"
      ]
     },
     "execution_count": 17,
     "metadata": {},
     "output_type": "execute_result"
    }
   ],
   "source": [
    "import solcx\n",
    "\n",
    "# Install the Solidity compiler version 0.8.0\n",
    "solcx.install_solc('0.8.0')\n"
   ]
  },
  {
   "cell_type": "code",
   "execution_count": 21,
   "metadata": {},
   "outputs": [
    {
     "name": "stdout",
     "output_type": "stream",
     "text": [
      "             Timestamp      CO2_ppm    NO2_ppm    SO2_ppm  Temperature_C  \\\n",
      "0  2025-03-22 22:10:08  3043.698273   4.633327   3.652194      19.234181   \n",
      "1  2025-03-22 22:10:09  2343.967654   6.491871   7.184046      17.582678   \n",
      "2  2025-03-22 22:10:10  1088.552343   3.363735   3.788074      39.376200   \n",
      "3  2025-03-22 22:10:11  4765.142353  10.392476  12.135352      24.738550   \n",
      "4  2025-03-22 22:10:12  1565.873047   9.428775   3.872559      12.765248   \n",
      "\n",
      "   Humidity_%        AQI  Environmental_Score  Social_Score  Governance_Score  \n",
      "0   39.391515   4.142760            61.300931     53.490247         98.455312  \n",
      "1   51.109303   6.837959            67.810334     73.414885         76.166593  \n",
      "2   56.081524   3.575905            75.302883     66.316614         64.124835  \n",
      "3   74.084090  11.263914            91.743813     70.148094         67.006938  \n",
      "4   83.193237   6.650667            95.421981     84.909640         75.538742  \n"
     ]
    }
   ],
   "source": [
    "import pandas as pd\n",
    "\n",
    "# Load ESG scores from the CSV file\n",
    "data = pd.read_csv('/Users/kdn_aikothalavanya/Desktop/KPMG Projects/carbonfootprint/esg_scores.csv')\n",
    "print(data.head())\n"
   ]
  }
 ],
 "metadata": {
  "kernelspec": {
   "display_name": "tf_env",
   "language": "python",
   "name": "python3"
  },
  "language_info": {
   "codemirror_mode": {
    "name": "ipython",
    "version": 3
   },
   "file_extension": ".py",
   "mimetype": "text/x-python",
   "name": "python",
   "nbconvert_exporter": "python",
   "pygments_lexer": "ipython3",
   "version": "3.10.16"
  }
 },
 "nbformat": 4,
 "nbformat_minor": 2
}
